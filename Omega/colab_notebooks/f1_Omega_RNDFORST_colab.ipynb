{
 "cells": [
  {
   "cell_type": "markdown",
   "metadata": {},
   "source": [
    "# 🏎️ F1 Winner Prediction – Google Colab Notebook\n",
    "\n",
    "Tento notebook obsahuje všechny kroky potřebné k vytvoření predikčního modelu pro určení vítěze závodu Formule 1 na základě reálných historických dat."
   ]
  },
  {
   "cell_type": "code",
   "execution_count": null,
   "metadata": {},
   "outputs": [],
   "source": [
    "# 📦 Import knihoven\n",
    "import pandas as pd\n",
    "import numpy as np\n",
    "import seaborn as sns\n",
    "import matplotlib.pyplot as plt\n",
    "from sklearn.model_selection import train_test_split\n",
    "from sklearn.ensemble import RandomForestClassifier\n",
    "from sklearn.preprocessing import LabelEncoder\n",
    "from sklearn.metrics import accuracy_score, confusion_matrix, classification_report\n",
    "import joblib"
   ]
  },
  {
   "cell_type": "code",
   "execution_count": null,
   "metadata": {},
   "outputs": [],
   "source": [
    "# 📥 Načtení datasetu\n",
    "from google.colab import files\n",
    "uploaded = files.upload()\n",
    "df = pd.read_csv(list(uploaded.keys())[0])\n",
    "df.head()"
   ]
  },
  {
   "cell_type": "code",
   "execution_count": null,
   "metadata": {},
   "outputs": [],
   "source": [
    "# 🧼 Čištění a předzpracování dat\n",
    "df = df[[\"Season\", \"Circuit\", \"Grid Position\", \"Constructor\", \"Driver\", \"Final Position\"]]\n",
    "encoder_circuit = LabelEncoder()\n",
    "encoder_constructor = LabelEncoder()\n",
    "encoder_driver = LabelEncoder()\n",
    "df[\"Circuit\"] = encoder_circuit.fit_transform(df[\"Circuit\"])\n",
    "df[\"Constructor\"] = encoder_constructor.fit_transform(df[\"Constructor\"])\n",
    "df[\"Driver\"] = encoder_driver.fit_transform(df[\"Driver\"])\n",
    "df[\"Final Position\"] = df[\"Final Position\"].astype(int)\n",
    "df[\"Winner\"] = (df[\"Final Position\"] == 1).astype(int)\n",
    "df = df.dropna()\n",
    "df.head()"
   ]
  },
  {
   "cell_type": "code",
   "execution_count": null,
   "metadata": {},
   "outputs": [],
   "source": [
    "# 🧠 Trénování modelu\n",
    "X = df[[\"Season\", \"Circuit\", \"Grid Position\", \"Constructor\", \"Driver\"]]\n",
    "y = df[\"Winner\"]\n",
    "X_train, X_test, y_train, y_test = train_test_split(X, y, test_size=0.2, random_state=42)\n",
    "model = RandomForestClassifier(n_estimators=100, random_state=42)\n",
    "model.fit(X_train, y_train)"
   ]
  },
  {
   "cell_type": "code",
   "execution_count": null,
   "metadata": {},
   "outputs": [],
   "source": [
    "# 💾 Uložení modelu a encoderů\n",
    "joblib.dump(model, \"models/f1_winner_model.pkl\")\n",
    "joblib.dump(encoder_circuit, \"encoders/enc_circuit.pkl\")\n",
    "joblib.dump(encoder_constructor, \"encoders/enc_constructor.pkl\")\n",
    "joblib.dump(encoder_driver, \"encoders/enc_driver.pkl\")"
   ]
  },
  {
   "cell_type": "code",
   "execution_count": null,
   "metadata": {},
   "outputs": [],
   "source": [
    "# 📊 Vyhodnocení modelu\n",
    "y_pred = model.predict(X_test)\n",
    "acc = accuracy_score(y_test, y_pred)\n",
    "print(f\"Přesnost: {acc * 100:.2f}%\")\n",
    "print(\"\\nConfusion Matrix:\")\n",
    "print(confusion_matrix(y_test, y_pred))\n",
    "print(\"\\nClassification Report:\")\n",
    "print(classification_report(y_test, y_pred))"
   ]
  },
  {
   "cell_type": "code",
   "execution_count": null,
   "metadata": {},
   "outputs": [],
   "source": [
    "# 📊 Vizualizace confusion matrix\n",
    "cm = confusion_matrix(y_test, y_pred)\n",
    "plt.figure(figsize=(6,4))\n",
    "sns.heatmap(cm, annot=True, fmt='d', cmap='Blues', xticklabels=['Nevyhrál', 'Vyhrál'], yticklabels=['Nevyhrál', 'Vyhrál'])\n",
    "plt.xlabel('Predikováno')\n",
    "plt.ylabel('Skutečnost')\n",
    "plt.title('Confusion Matrix')\n",
    "plt.show()"
   ]
  },
  {
   "cell_type": "code",
   "execution_count": null,
   "metadata": {},
   "outputs": [],
   "source": [
    "# 📈 Přesnost modelu podle sezóny\n",
    "years = sorted(df['Season'].unique())\n",
    "accuracies = []\n",
    "for year in years:\n",
    "    subset = df[df['Season'] == year]\n",
    "    if len(subset) < 20:\n",
    "        continue\n",
    "    X_year = subset[[\"Season\", \"Circuit\", \"Grid Position\", \"Constructor\", \"Driver\"]]\n",
    "    y_year = subset[\"Winner\"]\n",
    "    X_train_y, X_test_y, y_train_y, y_test_y = train_test_split(X_year, y_year, test_size=0.3, random_state=42)\n",
    "    model.fit(X_train_y, y_train_y)\n",
    "    y_pred_y = model.predict(X_test_y)\n",
    "    acc_y = accuracy_score(y_test_y, y_pred_y)\n",
    "    accuracies.append((year, acc_y))\n",
    "years_plot, acc_plot = zip(*accuracies)\n",
    "plt.figure(figsize=(10,5))\n",
    "plt.plot(years_plot, [a*100 for a in acc_plot], marker='o')\n",
    "plt.title('Přesnost modelu podle sezóny')\n",
    "plt.xlabel('Sezóna')\n",
    "plt.ylabel('Přesnost (%)')\n",
    "plt.grid(True)\n",
    "plt.show()"
   ]
  }
 ],
 "metadata": {
  "kernelspec": {
   "display_name": "Python 3",
   "language": "python",
   "name": "python3"
  },
  "language_info": {
   "name": "python",
   "version": "3.x"
  }
 },
 "nbformat": 4,
 "nbformat_minor": 2
}
